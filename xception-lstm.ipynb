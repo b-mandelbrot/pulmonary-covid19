{
 "cells": [
  {
   "cell_type": "code",
   "execution_count": 1,
   "id": "184eacb5",
   "metadata": {},
   "outputs": [],
   "source": [
    "# Read features extracted by CNNs\n",
    "from utils.data_source import DataSource"
   ]
  },
  {
   "cell_type": "code",
   "execution_count": 2,
   "id": "2c6d3dc0",
   "metadata": {},
   "outputs": [
    {
     "name": "stdout",
     "output_type": "stream",
     "text": [
      "\u001b[1m\u001b[36mbase_0\u001b[m\u001b[m            \u001b[1m\u001b[36mdensenet121\u001b[m\u001b[m       \u001b[1m\u001b[36mmobilenetv2\u001b[m\u001b[m       \u001b[1m\u001b[36mvgg19\u001b[m\u001b[m\r\n",
      "\u001b[1m\u001b[36mbase_1\u001b[m\u001b[m            \u001b[1m\u001b[36mdensenet169\u001b[m\u001b[m       \u001b[1m\u001b[36mnasnetlarge\u001b[m\u001b[m       \u001b[1m\u001b[36mxception\u001b[m\u001b[m\r\n",
      "\u001b[1m\u001b[36mbase_2\u001b[m\u001b[m            \u001b[1m\u001b[36mdensenet201\u001b[m\u001b[m       \u001b[1m\u001b[36mnasnetmobile\u001b[m\u001b[m\r\n",
      "\u001b[1m\u001b[36mbase_3\u001b[m\u001b[m            \u001b[1m\u001b[36mefficientnetb0\u001b[m\u001b[m    \u001b[1m\u001b[36mresnet152v2\u001b[m\u001b[m\r\n",
      "\u001b[1m\u001b[36mbase_4\u001b[m\u001b[m            \u001b[1m\u001b[36minceptionresnetv2\u001b[m\u001b[m \u001b[1m\u001b[36mvgg16\u001b[m\u001b[m\r\n"
     ]
    }
   ],
   "source": [
    "# features_{n}/ where n represents the number of frames considered as input. \n",
    "!ls features/features_20"
   ]
  },
  {
   "cell_type": "code",
   "execution_count": 3,
   "id": "a4f4e1f1",
   "metadata": {},
   "outputs": [
    {
     "name": "stdout",
     "output_type": "stream",
     "text": [
      "features-2048.npy filenames.npy     labels.npy\r\n"
     ]
    }
   ],
   "source": [
    "# features, filenames and labels\n",
    "!ls features/features_20/xception/"
   ]
  },
  {
   "cell_type": "code",
   "execution_count": 4,
   "id": "829a5b18",
   "metadata": {},
   "outputs": [],
   "source": [
    "# get data from FOLD 0-4 (5 folds)\n",
    "ds = DataSource(seq_length=20, features_length=2048, features_dir='features/features_20/', model='xception')"
   ]
  },
  {
   "cell_type": "code",
   "execution_count": 5,
   "id": "df912a96",
   "metadata": {},
   "outputs": [
    {
     "data": {
      "text/plain": [
       "<utils.data_source.DataSource at 0x10f820a00>"
      ]
     },
     "execution_count": 5,
     "metadata": {},
     "output_type": "execute_result"
    }
   ],
   "source": [
    "ds"
   ]
  },
  {
   "cell_type": "code",
   "execution_count": 6,
   "id": "08382e4e",
   "metadata": {},
   "outputs": [
    {
     "name": "stdout",
     "output_type": "stream",
     "text": [
      "[['cov' 'pne' 'reg']\n",
      " ['56' '40' '53']]\n",
      "[['cov' 'pne' 'reg']\n",
      " ['56' '40' '53']]\n",
      "[['cov' 'pne' 'reg']\n",
      " ['56' '40' '52']]\n",
      "[['cov' 'pne' 'reg']\n",
      " ['55' '40' '53']]\n",
      "[['cov' 'pne' 'reg']\n",
      " ['53' '40' '53']]\n"
     ]
    }
   ],
   "source": [
    "# shows the number of videos by diagnostic class and partition\n",
    "print(ds.count_videos(fold_number_str='0', data_type='train'))\n",
    "print(ds.count_videos(fold_number_str='1', data_type='train'))\n",
    "print(ds.count_videos(fold_number_str='2', data_type='train'))\n",
    "print(ds.count_videos(fold_number_str='3', data_type='train'))\n",
    "print(ds.count_videos(fold_number_str='4', data_type='train'))"
   ]
  },
  {
   "cell_type": "code",
   "execution_count": 7,
   "id": "f4fafb5f",
   "metadata": {},
   "outputs": [
    {
     "name": "stdout",
     "output_type": "stream",
     "text": [
      "[['cov' 'pne' 'reg']\n",
      " ['13' '10' '13']]\n",
      "[['cov' 'pne' 'reg']\n",
      " ['13' '10' '13']]\n",
      "[['cov' 'pne' 'reg']\n",
      " ['13' '10' '14']]\n",
      "[['cov' 'pne' 'reg']\n",
      " ['14' '10' '13']]\n",
      "[['cov' 'pne' 'reg']\n",
      " ['16' '10' '13']]\n"
     ]
    }
   ],
   "source": [
    "# shows the number of videos by diagnostic class and fold\n",
    "print(ds.count_videos(fold_number_str='0', data_type='test'))\n",
    "print(ds.count_videos(fold_number_str='1', data_type='test'))\n",
    "print(ds.count_videos(fold_number_str='2', data_type='test'))\n",
    "print(ds.count_videos(fold_number_str='3', data_type='test'))\n",
    "print(ds.count_videos(fold_number_str='4', data_type='test'))"
   ]
  },
  {
   "cell_type": "code",
   "execution_count": 8,
   "id": "caf24a85",
   "metadata": {},
   "outputs": [],
   "source": [
    "# returns (filenames, labels)\n",
    "x, y = ds.get_data_from_fold('0')"
   ]
  },
  {
   "cell_type": "code",
   "execution_count": 9,
   "id": "263c70cc",
   "metadata": {},
   "outputs": [
    {
     "data": {
      "text/plain": [
       "('Pneu_northumbria_0409_set6_vid3.avi', 'pne')"
      ]
     },
     "execution_count": 9,
     "metadata": {},
     "output_type": "execute_result"
    }
   ],
   "source": [
    "x[0], y[0]"
   ]
  },
  {
   "cell_type": "code",
   "execution_count": 10,
   "id": "b89481db",
   "metadata": {},
   "outputs": [],
   "source": [
    "# returns (features, labels) referring to fold 0.\n",
    "x, y = ds.get_train_from_fold('0')"
   ]
  },
  {
   "cell_type": "code",
   "execution_count": 11,
   "id": "d82909df",
   "metadata": {},
   "outputs": [
    {
     "data": {
      "text/plain": [
       "(149, 20, 2048)"
      ]
     },
     "execution_count": 11,
     "metadata": {},
     "output_type": "execute_result"
    }
   ],
   "source": [
    "x.shape"
   ]
  },
  {
   "cell_type": "code",
   "execution_count": 12,
   "id": "ca69d0a3",
   "metadata": {},
   "outputs": [
    {
     "data": {
      "text/plain": [
       "(149, 3)"
      ]
     },
     "execution_count": 12,
     "metadata": {},
     "output_type": "execute_result"
    }
   ],
   "source": [
    "y.shape"
   ]
  },
  {
   "cell_type": "code",
   "execution_count": 13,
   "id": "4a1a2723",
   "metadata": {},
   "outputs": [
    {
     "data": {
      "text/plain": [
       "(20, 2048)"
      ]
     },
     "execution_count": 13,
     "metadata": {},
     "output_type": "execute_result"
    }
   ],
   "source": [
    "x[0].shape # 20 frames each frame containing 2048 features (Xception)"
   ]
  },
  {
   "cell_type": "code",
   "execution_count": 14,
   "id": "35cc28b8",
   "metadata": {},
   "outputs": [
    {
     "data": {
      "text/plain": [
       "array([0, 1, 0])"
      ]
     },
     "execution_count": 14,
     "metadata": {},
     "output_type": "execute_result"
    }
   ],
   "source": [
    "y[0] # Covid = [1,0,0]  Pneumonia = [0,1,0] Healthy = [0,0,1]"
   ]
  },
  {
   "cell_type": "code",
   "execution_count": 19,
   "id": "c45bc429",
   "metadata": {},
   "outputs": [],
   "source": [
    "import tensorflow as tf\n",
    "tf.get_logger().setLevel('ERROR')\n",
    "\n",
    "\n",
    "# model path\n",
    "saved_model_path = 'best_model/xception-20/trial-16-fold-0-model.h5' # trained in fold 0\n",
    "\n",
    "# load model\n",
    "model = tf.keras.models.load_model(saved_model_path)"
   ]
  },
  {
   "cell_type": "code",
   "execution_count": 20,
   "id": "40b55d6b",
   "metadata": {},
   "outputs": [
    {
     "name": "stdout",
     "output_type": "stream",
     "text": [
      "Model: \"sequential\"\n",
      "_________________________________________________________________\n",
      "Layer (type)                 Output Shape              Param #   \n",
      "=================================================================\n",
      "lstm (LSTM)                  (None, 512)               5244928   \n",
      "_________________________________________________________________\n",
      "dense (Dense)                (None, 1024)              525312    \n",
      "_________________________________________________________________\n",
      "dense_1 (Dense)              (None, 1024)              1049600   \n",
      "_________________________________________________________________\n",
      "dense_2 (Dense)              (None, 3)                 3075      \n",
      "=================================================================\n",
      "Total params: 6,822,915\n",
      "Trainable params: 6,822,915\n",
      "Non-trainable params: 0\n",
      "_________________________________________________________________\n"
     ]
    }
   ],
   "source": [
    "model.summary()"
   ]
  },
  {
   "cell_type": "code",
   "execution_count": 21,
   "id": "40e3e571",
   "metadata": {},
   "outputs": [],
   "source": [
    "from sklearn.metrics import classification_report\n",
    "import numpy as np\n",
    "\n",
    "accs = []; cprecs = []; crecs=[]; cf1s=[]; pprecs = []; precs=[]; pf1s=[]; hprecs = []; hrecs=[]; hf1s=[];\n",
    "\n",
    "    \n",
    "# tests the model on each of the five partitions\n",
    "for i in range(5):\n",
    "    # Load features and labels\n",
    "    x_train, y_train = ds.get_train_from_fold(str(i))\n",
    "    X_test, Y_test = ds.get_test_from_fold(str(i))\n",
    "    \n",
    "    saved_model_path = f\"./best_model/xception-20/trial-16-fold-{i}-model.h5\"\n",
    "    model = tf.keras.models.load_model(saved_model_path)\n",
    "    \n",
    "    predictions = model.predict(X_test)\n",
    "\n",
    "    score = classification_report(\n",
    "        y_true=np.argmax(Y_test, axis=1), \n",
    "        y_pred=np.argmax(predictions, axis=1), \n",
    "        labels=[0,1,2], \n",
    "        target_names=['covid', 'pneumonia', 'healthy'], \n",
    "        zero_division=0,\n",
    "        output_dict=True\n",
    "    )\n",
    "    \n",
    "    accs.append(score['accuracy'])\n",
    "    cprecs.append(score['covid']['precision'])\n",
    "    crecs.append(score['covid']['recall'])\n",
    "    cf1s.append(score['covid']['f1-score']) \n",
    "    pprecs.append(score['pneumonia']['precision'])\n",
    "    precs.append(score['pneumonia']['recall'])\n",
    "    pf1s.append(score['pneumonia']['f1-score'])\n",
    "    hprecs.append(score['healthy']['precision'])\n",
    "    hrecs.append(score['healthy']['recall'])\n",
    "    hf1s.append(score['healthy']['f1-score'])    "
   ]
  },
  {
   "cell_type": "code",
   "execution_count": 22,
   "id": "88ccc2b9",
   "metadata": {},
   "outputs": [
    {
     "name": "stdout",
     "output_type": "stream",
     "text": [
      "Model: Xception (mean, std)\n",
      "Accuracy:  (0.93, 0.13)\n",
      "COVID-19 Precision:  (0.94, 0.12)\n",
      "Pneumonia Precision:  (0.92, 0.17)\n",
      "Healthy Precision:  (0.95, 0.1)\n",
      "COVID-19 Recall:  (0.97, 0.06)\n",
      "Pneumonia Recall:  (0.94, 0.12)\n",
      "Healthy Recall:  (0.89, 0.22)\n",
      "COVID-19 F1:  (0.95, 0.1)\n",
      "Pneumonia F1:  (0.93, 0.15)\n",
      "Healthy F1:  (0.91, 0.17)\n"
     ]
    }
   ],
   "source": [
    "print(\"Model: Xception (mean, std)\")\n",
    "print(\"Accuracy: \", (round(np.mean(accs), 2), round(np.std(accs), 2)))\n",
    "print(\"COVID-19 Precision: \", (round(np.mean(cprecs), 2), round(np.std(cprecs), 2)))\n",
    "print(\"Pneumonia Precision: \", (round(np.mean(pprecs), 2), round(np.std(pprecs), 2)))\n",
    "print(\"Healthy Precision: \", (round(np.mean(hprecs), 2), round(np.std(hprecs), 2)))\n",
    "print(\"COVID-19 Recall: \", (round(np.mean(crecs), 2), round(np.std(crecs), 2)))\n",
    "print(\"Pneumonia Recall: \", (round(np.mean(precs), 2), round(np.std(precs), 2)))\n",
    "print(\"Healthy Recall: \", (round(np.mean(hrecs), 2), round(np.std(hrecs), 2)))\n",
    "print(\"COVID-19 F1: \", (round(np.mean(cf1s), 2), round(np.std(cf1s), 2)))\n",
    "print(\"Pneumonia F1: \", (round(np.mean(pf1s), 2), round(np.std(pf1s), 2)))\n",
    "print(\"Healthy F1: \", (round(np.mean(hf1s), 2), round(np.std(hf1s), 2)))"
   ]
  },
  {
   "cell_type": "code",
   "execution_count": null,
   "id": "d666a716",
   "metadata": {},
   "outputs": [],
   "source": []
  }
 ],
 "metadata": {
  "kernelspec": {
   "display_name": "Python 3 (ipykernel)",
   "language": "python",
   "name": "python3"
  },
  "language_info": {
   "codemirror_mode": {
    "name": "ipython",
    "version": 3
   },
   "file_extension": ".py",
   "mimetype": "text/x-python",
   "name": "python",
   "nbconvert_exporter": "python",
   "pygments_lexer": "ipython3",
   "version": "3.8.11"
  }
 },
 "nbformat": 4,
 "nbformat_minor": 5
}
